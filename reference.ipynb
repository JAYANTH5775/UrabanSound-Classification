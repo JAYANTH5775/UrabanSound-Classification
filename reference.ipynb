{
 "cells": [
  {
   "cell_type": "code",
   "execution_count": 1,
   "id": "4b936da8",
   "metadata": {},
   "outputs": [
    {
     "name": "stdout",
     "output_type": "stream",
     "text": [
      "Requirement already satisfied: librosa in c:\\users\\my pc\\anaconda3\\lib\\site-packages (0.10.0.post2)\n",
      "Requirement already satisfied: soundfile>=0.12.1 in c:\\users\\my pc\\anaconda3\\lib\\site-packages (from librosa) (0.12.1)\n",
      "Requirement already satisfied: scipy>=1.2.0 in c:\\users\\my pc\\anaconda3\\lib\\site-packages (from librosa) (1.9.1)\n",
      "Requirement already satisfied: soxr>=0.3.2 in c:\\users\\my pc\\anaconda3\\lib\\site-packages (from librosa) (0.3.5)\n",
      "Requirement already satisfied: scikit-learn>=0.20.0 in c:\\users\\my pc\\anaconda3\\lib\\site-packages (from librosa) (1.0.2)\n",
      "Requirement already satisfied: typing-extensions>=4.1.1 in c:\\users\\my pc\\anaconda3\\lib\\site-packages (from librosa) (4.3.0)\n",
      "Requirement already satisfied: audioread>=2.1.9 in c:\\users\\my pc\\anaconda3\\lib\\site-packages (from librosa) (3.0.0)\n",
      "Requirement already satisfied: numpy!=1.22.0,!=1.22.1,!=1.22.2,>=1.20.3 in c:\\users\\my pc\\anaconda3\\lib\\site-packages (from librosa) (1.21.6)\n",
      "Requirement already satisfied: pooch<1.7,>=1.0 in c:\\users\\my pc\\anaconda3\\lib\\site-packages (from librosa) (1.6.0)\n",
      "Requirement already satisfied: lazy-loader>=0.1 in c:\\users\\my pc\\anaconda3\\lib\\site-packages (from librosa) (0.2)\n",
      "Requirement already satisfied: msgpack>=1.0 in c:\\users\\my pc\\anaconda3\\lib\\site-packages (from librosa) (1.0.3)\n",
      "Requirement already satisfied: joblib>=0.14 in c:\\users\\my pc\\anaconda3\\lib\\site-packages (from librosa) (1.1.0)\n",
      "Requirement already satisfied: decorator>=4.3.0 in c:\\users\\my pc\\anaconda3\\lib\\site-packages (from librosa) (5.1.1)\n",
      "Requirement already satisfied: numba>=0.51.0 in c:\\users\\my pc\\anaconda3\\lib\\site-packages (from librosa) (0.55.1)\n",
      "Requirement already satisfied: setuptools in c:\\users\\my pc\\anaconda3\\lib\\site-packages (from numba>=0.51.0->librosa) (63.4.1)\n",
      "Requirement already satisfied: llvmlite<0.39,>=0.38.0rc1 in c:\\users\\my pc\\anaconda3\\lib\\site-packages (from numba>=0.51.0->librosa) (0.38.0)\n",
      "Requirement already satisfied: packaging>=20.0 in c:\\users\\my pc\\anaconda3\\lib\\site-packages (from pooch<1.7,>=1.0->librosa) (21.3)\n",
      "Requirement already satisfied: appdirs>=1.3.0 in c:\\users\\my pc\\anaconda3\\lib\\site-packages (from pooch<1.7,>=1.0->librosa) (1.4.4)\n",
      "Requirement already satisfied: requests>=2.19.0 in c:\\users\\my pc\\anaconda3\\lib\\site-packages (from pooch<1.7,>=1.0->librosa) (2.28.1)\n",
      "Requirement already satisfied: threadpoolctl>=2.0.0 in c:\\users\\my pc\\anaconda3\\lib\\site-packages (from scikit-learn>=0.20.0->librosa) (2.2.0)\n",
      "Requirement already satisfied: cffi>=1.0 in c:\\users\\my pc\\anaconda3\\lib\\site-packages (from soundfile>=0.12.1->librosa) (1.15.1)\n",
      "Requirement already satisfied: pycparser in c:\\users\\my pc\\anaconda3\\lib\\site-packages (from cffi>=1.0->soundfile>=0.12.1->librosa) (2.21)\n",
      "Requirement already satisfied: pyparsing!=3.0.5,>=2.0.2 in c:\\users\\my pc\\anaconda3\\lib\\site-packages (from packaging>=20.0->pooch<1.7,>=1.0->librosa) (3.0.9)\n",
      "Requirement already satisfied: urllib3<1.27,>=1.21.1 in c:\\users\\my pc\\anaconda3\\lib\\site-packages (from requests>=2.19.0->pooch<1.7,>=1.0->librosa) (1.26.11)\n",
      "Requirement already satisfied: certifi>=2017.4.17 in c:\\users\\my pc\\anaconda3\\lib\\site-packages (from requests>=2.19.0->pooch<1.7,>=1.0->librosa) (2022.9.14)\n",
      "Requirement already satisfied: charset-normalizer<3,>=2 in c:\\users\\my pc\\anaconda3\\lib\\site-packages (from requests>=2.19.0->pooch<1.7,>=1.0->librosa) (2.0.4)\n",
      "Requirement already satisfied: idna<4,>=2.5 in c:\\users\\my pc\\anaconda3\\lib\\site-packages (from requests>=2.19.0->pooch<1.7,>=1.0->librosa) (3.3)\n",
      "Note: you may need to restart the kernel to use updated packages.\n"
     ]
    }
   ],
   "source": [
    " pip install librosa"
   ]
  },
  {
   "cell_type": "code",
   "execution_count": null,
   "id": "2fabce5a",
   "metadata": {},
   "outputs": [],
   "source": [
    "import IPython.display as ipd filepath = \"../input/urbansound8k/fold1/101415-3-0-2.wav\" ipd.Audio(filepath)\n"
   ]
  },
  {
   "cell_type": "code",
   "execution_count": null,
   "id": "938292bb",
   "metadata": {},
   "outputs": [],
   "source": [
    "import librosa import librosa.display data, sample_rate = librosa.load(filepath) plt.figure(figsize=(12, 5))\n",
    "librosa.display.waveshow(data, sr=sample_rate)"
   ]
  },
  {
   "cell_type": "code",
   "execution_count": null,
   "id": "45eec35d",
   "metadata": {},
   "outputs": [],
   "source": [
    "from scipy.io import wavfile as wav\n",
    "wave_sample_rate, wave_audio = wav.read(filepath)\n",
    "print(wave_sample_rate)\n",
    "print(wave_audio)\n",
    "import matplotlib.pyplot as plt\n",
    "plt.figure(figsize=(12, 4))\n",
    "plt.plot(wave_audio)"
   ]
  },
  {
   "cell_type": "code",
   "execution_count": null,
   "id": "f9b7dde5",
   "metadata": {},
   "outputs": [],
   "source": [
    "import pandas as pd metadata = pd.read_csv('/urbansound8k/UrbanSound8K.csv') metadata.head(10)"
   ]
  },
  {
   "cell_type": "code",
   "execution_count": null,
   "id": "aefce45e",
   "metadata": {},
   "outputs": [],
   "source": [
    "metadata['class'].value_counts()"
   ]
  },
  {
   "cell_type": "code",
   "execution_count": null,
   "id": "90bad0b9",
   "metadata": {},
   "outputs": [],
   "source": [
    "import seaborn as sns plt.figure(figsize=(10, 6)) sns.countplot(metadata['class']) plt.title(\"Count of\n",
    "records in each class\") plt.xticks(rotation=\"vertical\") plt.show()\n"
   ]
  },
  {
   "cell_type": "code",
   "execution_count": null,
   "id": "1077c53b",
   "metadata": {},
   "outputs": [],
   "source": [
    "mfccs = librosa.feature.mfcc(y=data, sr=sample_rate, n_mfcc=40) print(mfccs.shape) print(mfccs)\n"
   ]
  },
  {
   "cell_type": "code",
   "execution_count": null,
   "id": "0b01c55f",
   "metadata": {},
   "outputs": [],
   "source": [
    "def features_extractor(file): #load the file (audio) audio, sample_rate = librosa.load(file_name,\n",
    "res_type='kaiser_fast') #we extract mfcc mfccs_features = librosa.feature.mfcc(y=audio, sr=sample_rate,\n",
    "n_mfcc=40) #in order to find out scaled feature we do mean of transpose of value mfccs_scaled_features =\n",
    "np.mean(mfccs_features.T,axis=0) return mfccs_scaled_features\n"
   ]
  },
  {
   "cell_type": "code",
   "execution_count": null,
   "id": "58e2d1c1",
   "metadata": {},
   "outputs": [],
   "source": [
    "#Now we ned to extract the featured from all the audio files so we use tqdm import numpy as np from tqdm\n",
    "import tqdm ### Now we iterate through every audio file and extract features ### using Mel-Frequency Cepstral\n",
    "Coefficients extracted_features=[] for index_num,row in tqdm(metadata.iterrows()): file_name =\n",
    "os.path.join(os.path.abspath(audio_dataset_path),'fold'+str(row[\"fold\"])+'/',str(row[\"slice_file_name\"]))\n",
    "final_class_labels=row[\"class\"] data=features_extractor(file_name)\n",
    "extracted_features.append([data,final_class_labels])"
   ]
  },
  {
   "cell_type": "code",
   "execution_count": null,
   "id": "ca9854b1",
   "metadata": {},
   "outputs": [],
   "source": [
    "#Now we ned to extract the featured from all the audio files so we use tqdm import numpy as np from tqdm\n",
    "import tqdm ### Now we iterate through every audio file and extract features ### using Mel-Frequency Cepstral\n",
    "Coefficients extracted_features=[] for index_num,row in tqdm(metadata.iterrows()): file_name =\n",
    "os.path.join(os.path.abspath(audio_dataset_path),'fold'+str(row[\"fold\"])+'/',str(row[\"slice_file_name\"]))\n",
    "final_class_labels=row[\"class\"] data=features_extractor(file_name)\n",
    "extracted_features.append([data,final_class_labels])"
   ]
  },
  {
   "cell_type": "code",
   "execution_count": null,
   "id": "ee3fece2",
   "metadata": {},
   "outputs": [],
   "source": [
    "## Split the dataset into independent and dependent dataset\n",
    "X=np.array(extracted_features_df['feature'].tolist()) y=np.array(extracted_features_df['class'].tolist()) ###\n",
    "Label Encoding -> Label Encoder from tensorflow.keras.utils import to_categorical from sklearn.preprocessing\n",
    "import LabelEncoder labelencoder=LabelEncoder() y=to_categorical(labelencoder.fit_transform(y)) ### Train\n",
    "Test Split from sklearn.model_selection import train_test_split\n",
    "X_train,X_test,y_train,y_test=train_test_split(X,y,test_size=0.2,random_state=0)\n"
   ]
  },
  {
   "cell_type": "code",
   "execution_count": null,
   "id": "85c65a2f",
   "metadata": {},
   "outputs": [],
   "source": [
    "from tensorflow.keras.models import Sequential from tensorflow.keras.layers import\n",
    "Dense,Dropout,Activation,Flatten from tensorflow.keras.optimizers import Adam from sklearn import metrics ###\n",
    "No of classes num_labels=y.shape[1]\n",
    "model=Sequential() ###first layer model.add(Dense(100,input_shape=(40,))) model.add(Activation('relu'))\n",
    "model.add(Dropout(0.5)) ###second layer model.add(Dense(200)) model.add(Activation('relu'))\n",
    "model.add(Dropout(0.5)) ###third layer model.add(Dense(100)) model.add(Activation('relu'))\n",
    "model.add(Dropout(0.5)) ###final layer model.add(Dense(num_labels)) model.add(Activation('softmax'))\n"
   ]
  },
  {
   "cell_type": "code",
   "execution_count": null,
   "id": "3e61c58f",
   "metadata": {},
   "outputs": [],
   "source": [
    "model.compile(loss='categorical_crossentropy',metrics=['accuracy'],optimizer='adam')\n"
   ]
  },
  {
   "cell_type": "code",
   "execution_count": null,
   "id": "8eac64bf",
   "metadata": {},
   "outputs": [],
   "source": [
    "## Trianing my model from tensorflow.keras.callbacks import ModelCheckpoint from datetime import datetime\n",
    "num_epochs = 100 num_batch_size = 32 checkpointer = ModelCheckpoint(filepath='./audio_classification.hdf5',\n",
    "verbose=1, save_best_only=True) start = datetime.now() model.fit(X_train, y_train, batch_size=num_batch_size,\n",
    "epochs=num_epochs, validation_data=(X_test, y_test), callbacks=[checkpointer], verbose=1) duration =\n",
    "datetime.now() - start print(\"Training completed in time: \", duration)"
   ]
  },
  {
   "cell_type": "code",
   "execution_count": null,
   "id": "2c82ab8c",
   "metadata": {},
   "outputs": [],
   "source": [
    "test_accuracy=model.evaluate(X_test,y_test,verbose=0) print(test_accuracy[1])\n"
   ]
  },
  {
   "cell_type": "code",
   "execution_count": null,
   "id": "08e95894",
   "metadata": {},
   "outputs": [],
   "source": [
    "#model.predict_classes(X_test) predict_x=model.predict(X_test) classes_x=np.argmax(predict_x,axis=1)\n",
    "print(classes_x)\n"
   ]
  },
  {
   "cell_type": "code",
   "execution_count": null,
   "id": "1dc09adb",
   "metadata": {},
   "outputs": [],
   "source": [
    "filename=\"../input/urbansound8k/fold7/101848-9-0-0.wav\" #preprocess the audio file audio, sample_rate =\n",
    "librosa.load(filename, res_type='kaiser_fast') mfccs_features = librosa.feature.mfcc(y=audio, sr=sample_rate,\n",
    "n_mfcc=40) mfccs_scaled_features = np.mean(mfccs_features.T,axis=0) #Reshape MFCC feature to 2-D array\n",
    "mfccs_scaled_features=mfccs_scaled_features.reshape(1,-1)\n",
    "#predicted_label=model.predict_classes(mfccs_scaled_features) x_predict=model.predict(mfccs_scaled_features)\n",
    "predicted_label=np.argmax(x_predict,axis=1) print(predicted_label) prediction_class =\n",
    "labelencoder.inverse_transform(predicted_label) print(prediction_class)"
   ]
  },
  {
   "cell_type": "code",
   "execution_count": null,
   "id": "bce53dd2",
   "metadata": {},
   "outputs": [],
   "source": []
  },
  {
   "cell_type": "code",
   "execution_count": null,
   "id": "9dd7bb61",
   "metadata": {},
   "outputs": [],
   "source": []
  },
  {
   "cell_type": "code",
   "execution_count": null,
   "id": "5e4c26b2",
   "metadata": {},
   "outputs": [],
   "source": []
  },
  {
   "cell_type": "code",
   "execution_count": null,
   "id": "0ac31529",
   "metadata": {},
   "outputs": [],
   "source": []
  },
  {
   "cell_type": "code",
   "execution_count": null,
   "id": "2270b53e",
   "metadata": {},
   "outputs": [],
   "source": []
  }
 ],
 "metadata": {
  "kernelspec": {
   "display_name": "Python 3 (ipykernel)",
   "language": "python",
   "name": "python3"
  },
  "language_info": {
   "codemirror_mode": {
    "name": "ipython",
    "version": 3
   },
   "file_extension": ".py",
   "mimetype": "text/x-python",
   "name": "python",
   "nbconvert_exporter": "python",
   "pygments_lexer": "ipython3",
   "version": "3.9.13"
  }
 },
 "nbformat": 4,
 "nbformat_minor": 5
}
